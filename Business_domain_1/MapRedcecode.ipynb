{
 "cells": [
  {
   "cell_type": "markdown",
   "id": "15fbab81",
   "metadata": {},
   "source": [
    "## Create MapReduce Funcation"
   ]
  },
  {
   "cell_type": "code",
   "execution_count": 3,
   "id": "2d91fc2e",
   "metadata": {},
   "outputs": [
    {
     "name": "stdout",
     "output_type": "stream",
     "text": [
      "Overwriting Categry_Sector_Count.py\n"
     ]
    }
   ],
   "source": [
    "%%file Categry_Sector_Count.py\n",
    " # import the mrjob library\n",
    "from mrjob.job import MRJob\n",
    "\n",
    "# creat the class\n",
    "class ChangeCategry_Sector_Count(MRJob): \n",
    "    \n",
    "    \n",
    "    # in the map step each row in dataframe is read key for each value pair\n",
    "    def mapper(self,_,sector_change ):\n",
    "     \n",
    "        yield (sector_change, 1) \n",
    "        # The output for each row as a tuple \n",
    "        \n",
    "\n",
    "    # in the reduce step combine all tuples with the same key\n",
    "    # after that  sum all the values of the tuple, which will give the total \n",
    "    def reducer(self, key, values):\n",
    "        yield (key, sum(values))\n",
    "        \n",
    "if __name__ == \"__main__\":\n",
    "    ChangeCategry_Sector_Count.run()"
   ]
  },
  {
   "cell_type": "markdown",
   "id": "9d1f7d2f",
   "metadata": {},
   "source": [
    "## Run the Funcation"
   ]
  },
  {
   "cell_type": "code",
   "execution_count": 4,
   "id": "50500976",
   "metadata": {},
   "outputs": [
    {
     "name": "stdout",
     "output_type": "stream",
     "text": [
      "No configs found; falling back on auto-configuration\n",
      "No configs specified for inline runner\n",
      "Creating temp directory /var/folders/9l/pggd3pz94nx1xsh1q0qkty3c0000gn/T/Categry_Sector_Count.fatimah.20221129.083518.344991\n",
      "Running step 1 of 1...\n",
      "job output is in /var/folders/9l/pggd3pz94nx1xsh1q0qkty3c0000gn/T/Categry_Sector_Count.fatimah.20221129.083518.344991/output\n",
      "Streaming final output from /var/folders/9l/pggd3pz94nx1xsh1q0qkty3c0000gn/T/Categry_Sector_Count.fatimah.20221129.083518.344991/output...\n",
      "\"Materials,Good Change\"\t61414\n",
      "\"Materials,Stable\"\t16277\n",
      "\"Real Estate,Bad Change\"\t19975\n",
      "\"Energy,Bad Change\"\t7202\n",
      "\"Energy,Good Change\"\t6904\n",
      "\"Energy,Stable\"\t1625\n",
      "\"Financials,Bad Change\"\t67244\n",
      "\"Financials,Good Change\"\t63151\n",
      "\"Financials,Stable\"\t14455\n",
      "\"Health Care,Bad Change\"\t8259\n",
      "\"Health Care,Good Change\"\t8018\n",
      "\"Health Care,Stable\"\t1548\n",
      "\"IT,Bad Change\"\t394\n",
      "\"IT,Good Change\"\t360\n",
      "\"IT,Stable\"\t52\n",
      "\"Industrials,Bad Change\"\t28957\n",
      "\"Industrials,Good Change\"\t27568\n",
      "\"Industrials,Stable\"\t7412\n",
      "\"Materials,Bad Change\"\t63853\n",
      "\"Consumer Discretionary,Stable\"\t5923\n",
      "\"Consumer Staples,Bad Change\"\t28450\n",
      "\"Consumer Staples,Good Change\"\t27502\n",
      "\"Consumer Staples,Stable\"\t8734\n",
      "\"Real Estate,Good Change\"\t18838\n",
      "\"Real Estate,Stable\"\t5650\n",
      "\"Utilities,Bad Change\"\t3804\n",
      "\"Utilities,Good Change\"\t3816\n",
      "\"Utilities,Stable\"\t1765\n",
      "\"sector,Change_category\"\t1\n",
      "\"Communication Services,Bad Change\"\t10023\n",
      "\"Communication Services,Good Change\"\t9068\n",
      "\"Communication Services,Stable\"\t2257\n",
      "\"Consumer Discretionary,Bad Change\"\t24937\n",
      "\"Consumer Discretionary,Good Change\"\t23996\n",
      "Removing temp directory /var/folders/9l/pggd3pz94nx1xsh1q0qkty3c0000gn/T/Categry_Sector_Count.fatimah.20221129.083518.344991...\n"
     ]
    }
   ],
   "source": [
    "!python Categry_Sector_Count.py data.csv"
   ]
  },
  {
   "cell_type": "markdown",
   "id": "9ca8939c",
   "metadata": {},
   "source": [
    "#### We found the highest count is\n",
    "#### Financials with Bad Change\"\t67244\n",
    "\n",
    "#### The lowest count is\n",
    "#### IT sector wuth stable change =52"
   ]
  },
  {
   "cell_type": "code",
   "execution_count": null,
   "id": "0d773cc3",
   "metadata": {},
   "outputs": [],
   "source": []
  }
 ],
 "metadata": {
  "kernelspec": {
   "display_name": "Python 3 (ipykernel)",
   "language": "python",
   "name": "python3"
  },
  "language_info": {
   "codemirror_mode": {
    "name": "ipython",
    "version": 3
   },
   "file_extension": ".py",
   "mimetype": "text/x-python",
   "name": "python",
   "nbconvert_exporter": "python",
   "pygments_lexer": "ipython3",
   "version": "3.9.12"
  }
 },
 "nbformat": 4,
 "nbformat_minor": 5
}
