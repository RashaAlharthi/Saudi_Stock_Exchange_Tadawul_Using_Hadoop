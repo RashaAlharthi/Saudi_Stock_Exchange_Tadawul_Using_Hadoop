{
 "cells": [
  {
   "cell_type": "code",
   "execution_count": 1,
   "id": "65f4cf46",
   "metadata": {},
   "outputs": [],
   "source": [
    "import pandas as pd"
   ]
  },
  {
   "cell_type": "code",
   "execution_count": 2,
   "id": "b52adb6e",
   "metadata": {},
   "outputs": [],
   "source": [
    "df = pd.read_csv('Tadawul_stcks_clean.csv')"
   ]
  },
  {
   "cell_type": "code",
   "execution_count": 3,
   "id": "c81a5e97",
   "metadata": {
    "scrolled": false
   },
   "outputs": [
    {
     "data": {
      "text/html": [
       "<div>\n",
       "<style scoped>\n",
       "    .dataframe tbody tr th:only-of-type {\n",
       "        vertical-align: middle;\n",
       "    }\n",
       "\n",
       "    .dataframe tbody tr th {\n",
       "        vertical-align: top;\n",
       "    }\n",
       "\n",
       "    .dataframe thead th {\n",
       "        text-align: right;\n",
       "    }\n",
       "</style>\n",
       "<table border=\"1\" class=\"dataframe\">\n",
       "  <thead>\n",
       "    <tr style=\"text-align: right;\">\n",
       "      <th></th>\n",
       "      <th>trading_name</th>\n",
       "      <th>sector</th>\n",
       "      <th>date</th>\n",
       "      <th>open_price</th>\n",
       "      <th>high_price</th>\n",
       "      <th>low_price</th>\n",
       "      <th>close_price</th>\n",
       "      <th>change</th>\n",
       "      <th>perc_Change</th>\n",
       "      <th>volume_traded</th>\n",
       "      <th>value_traded</th>\n",
       "      <th>num_trades</th>\n",
       "      <th>Year</th>\n",
       "      <th>month</th>\n",
       "      <th>day</th>\n",
       "      <th>Change_category</th>\n",
       "    </tr>\n",
       "  </thead>\n",
       "  <tbody>\n",
       "    <tr>\n",
       "      <th>0</th>\n",
       "      <td>SARCO</td>\n",
       "      <td>Energy</td>\n",
       "      <td>2020-03-05</td>\n",
       "      <td>35.55</td>\n",
       "      <td>35.85</td>\n",
       "      <td>34.90</td>\n",
       "      <td>34.90</td>\n",
       "      <td>-0.40</td>\n",
       "      <td>-1.13</td>\n",
       "      <td>436609.0</td>\n",
       "      <td>15399073.50</td>\n",
       "      <td>804.0</td>\n",
       "      <td>2020</td>\n",
       "      <td>March</td>\n",
       "      <td>Thursday</td>\n",
       "      <td>Bad Change</td>\n",
       "    </tr>\n",
       "    <tr>\n",
       "      <th>1</th>\n",
       "      <td>SARCO</td>\n",
       "      <td>Energy</td>\n",
       "      <td>2020-03-04</td>\n",
       "      <td>34.70</td>\n",
       "      <td>35.65</td>\n",
       "      <td>34.50</td>\n",
       "      <td>35.30</td>\n",
       "      <td>0.25</td>\n",
       "      <td>0.71</td>\n",
       "      <td>737624.0</td>\n",
       "      <td>25981391.35</td>\n",
       "      <td>1268.0</td>\n",
       "      <td>2020</td>\n",
       "      <td>March</td>\n",
       "      <td>Wednesday</td>\n",
       "      <td>Good Change</td>\n",
       "    </tr>\n",
       "    <tr>\n",
       "      <th>2</th>\n",
       "      <td>SARCO</td>\n",
       "      <td>Energy</td>\n",
       "      <td>2020-03-03</td>\n",
       "      <td>34.70</td>\n",
       "      <td>35.15</td>\n",
       "      <td>34.70</td>\n",
       "      <td>35.05</td>\n",
       "      <td>1.05</td>\n",
       "      <td>3.09</td>\n",
       "      <td>489831.0</td>\n",
       "      <td>17116413.40</td>\n",
       "      <td>854.0</td>\n",
       "      <td>2020</td>\n",
       "      <td>March</td>\n",
       "      <td>Tuesday</td>\n",
       "      <td>Good Change</td>\n",
       "    </tr>\n",
       "    <tr>\n",
       "      <th>3</th>\n",
       "      <td>SARCO</td>\n",
       "      <td>Energy</td>\n",
       "      <td>2020-03-02</td>\n",
       "      <td>35.20</td>\n",
       "      <td>35.65</td>\n",
       "      <td>34.00</td>\n",
       "      <td>34.00</td>\n",
       "      <td>-0.55</td>\n",
       "      <td>-1.59</td>\n",
       "      <td>736157.0</td>\n",
       "      <td>25858700.60</td>\n",
       "      <td>1242.0</td>\n",
       "      <td>2020</td>\n",
       "      <td>March</td>\n",
       "      <td>Monday</td>\n",
       "      <td>Bad Change</td>\n",
       "    </tr>\n",
       "    <tr>\n",
       "      <th>4</th>\n",
       "      <td>SARCO</td>\n",
       "      <td>Energy</td>\n",
       "      <td>2020-03-01</td>\n",
       "      <td>35.35</td>\n",
       "      <td>35.60</td>\n",
       "      <td>34.25</td>\n",
       "      <td>34.55</td>\n",
       "      <td>-2.05</td>\n",
       "      <td>-5.60</td>\n",
       "      <td>738685.0</td>\n",
       "      <td>25747967.55</td>\n",
       "      <td>1625.0</td>\n",
       "      <td>2020</td>\n",
       "      <td>March</td>\n",
       "      <td>Sunday</td>\n",
       "      <td>Bad Change</td>\n",
       "    </tr>\n",
       "  </tbody>\n",
       "</table>\n",
       "</div>"
      ],
      "text/plain": [
       "  trading_name  sector        date  open_price  high_price  low_price  \\\n",
       "0        SARCO  Energy  2020-03-05       35.55       35.85      34.90   \n",
       "1        SARCO  Energy  2020-03-04       34.70       35.65      34.50   \n",
       "2        SARCO  Energy  2020-03-03       34.70       35.15      34.70   \n",
       "3        SARCO  Energy  2020-03-02       35.20       35.65      34.00   \n",
       "4        SARCO  Energy  2020-03-01       35.35       35.60      34.25   \n",
       "\n",
       "   close_price  change  perc_Change  volume_traded  value_traded  num_trades  \\\n",
       "0        34.90   -0.40        -1.13       436609.0   15399073.50       804.0   \n",
       "1        35.30    0.25         0.71       737624.0   25981391.35      1268.0   \n",
       "2        35.05    1.05         3.09       489831.0   17116413.40       854.0   \n",
       "3        34.00   -0.55        -1.59       736157.0   25858700.60      1242.0   \n",
       "4        34.55   -2.05        -5.60       738685.0   25747967.55      1625.0   \n",
       "\n",
       "   Year  month        day Change_category  \n",
       "0  2020  March   Thursday      Bad Change  \n",
       "1  2020  March  Wednesday     Good Change  \n",
       "2  2020  March    Tuesday     Good Change  \n",
       "3  2020  March     Monday      Bad Change  \n",
       "4  2020  March     Sunday      Bad Change  "
      ]
     },
     "execution_count": 3,
     "metadata": {},
     "output_type": "execute_result"
    }
   ],
   "source": [
    "df.head()"
   ]
  },
  {
   "cell_type": "markdown",
   "id": "323e0ed0",
   "metadata": {},
   "source": [
    "## preparing data"
   ]
  },
  {
   "cell_type": "markdown",
   "id": "b278785f",
   "metadata": {},
   "source": [
    "### Data processing for the MapReduce funcation"
   ]
  },
  {
   "cell_type": "code",
   "execution_count": 4,
   "id": "96f8f1ad",
   "metadata": {},
   "outputs": [],
   "source": [
    "# Take year column\n",
    "column_name = ['Year']\n",
    "df_map_red = df[column_name]"
   ]
  },
  {
   "cell_type": "code",
   "execution_count": 7,
   "id": "a4fd2105",
   "metadata": {},
   "outputs": [],
   "source": [
    "# Convert to CSV file\n",
    "df_map_red.to_csv('years.csv', index=False)"
   ]
  }
 ],
 "metadata": {
  "kernelspec": {
   "display_name": "Python 3",
   "language": "python",
   "name": "python3"
  },
  "language_info": {
   "codemirror_mode": {
    "name": "ipython",
    "version": 3
   },
   "file_extension": ".py",
   "mimetype": "text/x-python",
   "name": "python",
   "nbconvert_exporter": "python",
   "pygments_lexer": "ipython3",
   "version": "3.8.8"
  }
 },
 "nbformat": 4,
 "nbformat_minor": 5
}
