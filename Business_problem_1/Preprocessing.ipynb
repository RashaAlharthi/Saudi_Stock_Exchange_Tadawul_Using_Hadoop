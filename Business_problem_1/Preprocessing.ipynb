{
 "cells": [
  {
   "cell_type": "markdown",
   "id": "a9c6fda4",
   "metadata": {},
   "source": [
    "# Preprocessing Befor the MapReduce funcation"
   ]
  },
  {
   "cell_type": "code",
   "execution_count": 2,
   "id": "75ac2aef",
   "metadata": {},
   "outputs": [],
   "source": [
    "# Import the importnat file\n",
    "import pandas as pd\n",
    "from functools import reduce\n",
    "\n",
    "\n",
    "\n",
    "\n"
   ]
  },
  {
   "cell_type": "markdown",
   "id": "fd244e8e",
   "metadata": {},
   "source": [
    "# ٍRead the data "
   ]
  },
  {
   "cell_type": "code",
   "execution_count": 3,
   "id": "f71570e8",
   "metadata": {},
   "outputs": [],
   "source": [
    "df = pd.read_csv('Tadawul_stcks_clean.csv')"
   ]
  },
  {
   "cell_type": "code",
   "execution_count": 4,
   "id": "c3ec6d73",
   "metadata": {},
   "outputs": [
    {
     "data": {
      "text/html": [
       "<div>\n",
       "<style scoped>\n",
       "    .dataframe tbody tr th:only-of-type {\n",
       "        vertical-align: middle;\n",
       "    }\n",
       "\n",
       "    .dataframe tbody tr th {\n",
       "        vertical-align: top;\n",
       "    }\n",
       "\n",
       "    .dataframe thead th {\n",
       "        text-align: right;\n",
       "    }\n",
       "</style>\n",
       "<table border=\"1\" class=\"dataframe\">\n",
       "  <thead>\n",
       "    <tr style=\"text-align: right;\">\n",
       "      <th></th>\n",
       "      <th>trading_name</th>\n",
       "      <th>sector</th>\n",
       "      <th>date</th>\n",
       "      <th>open_price</th>\n",
       "      <th>high_price</th>\n",
       "      <th>low_price</th>\n",
       "      <th>close_price</th>\n",
       "      <th>change</th>\n",
       "      <th>perc_Change</th>\n",
       "      <th>volume_traded</th>\n",
       "      <th>value_traded</th>\n",
       "      <th>num_trades</th>\n",
       "      <th>Year</th>\n",
       "      <th>month</th>\n",
       "      <th>day</th>\n",
       "      <th>Change_category</th>\n",
       "    </tr>\n",
       "  </thead>\n",
       "  <tbody>\n",
       "    <tr>\n",
       "      <th>0</th>\n",
       "      <td>SARCO</td>\n",
       "      <td>Energy</td>\n",
       "      <td>2020-03-05</td>\n",
       "      <td>35.55</td>\n",
       "      <td>35.85</td>\n",
       "      <td>34.90</td>\n",
       "      <td>34.90</td>\n",
       "      <td>-0.40</td>\n",
       "      <td>-1.13</td>\n",
       "      <td>436609.0</td>\n",
       "      <td>15399073.50</td>\n",
       "      <td>804.0</td>\n",
       "      <td>2020</td>\n",
       "      <td>March</td>\n",
       "      <td>Thursday</td>\n",
       "      <td>Bad Change</td>\n",
       "    </tr>\n",
       "    <tr>\n",
       "      <th>1</th>\n",
       "      <td>SARCO</td>\n",
       "      <td>Energy</td>\n",
       "      <td>2020-03-04</td>\n",
       "      <td>34.70</td>\n",
       "      <td>35.65</td>\n",
       "      <td>34.50</td>\n",
       "      <td>35.30</td>\n",
       "      <td>0.25</td>\n",
       "      <td>0.71</td>\n",
       "      <td>737624.0</td>\n",
       "      <td>25981391.35</td>\n",
       "      <td>1268.0</td>\n",
       "      <td>2020</td>\n",
       "      <td>March</td>\n",
       "      <td>Wednesday</td>\n",
       "      <td>Good Change</td>\n",
       "    </tr>\n",
       "    <tr>\n",
       "      <th>2</th>\n",
       "      <td>SARCO</td>\n",
       "      <td>Energy</td>\n",
       "      <td>2020-03-03</td>\n",
       "      <td>34.70</td>\n",
       "      <td>35.15</td>\n",
       "      <td>34.70</td>\n",
       "      <td>35.05</td>\n",
       "      <td>1.05</td>\n",
       "      <td>3.09</td>\n",
       "      <td>489831.0</td>\n",
       "      <td>17116413.40</td>\n",
       "      <td>854.0</td>\n",
       "      <td>2020</td>\n",
       "      <td>March</td>\n",
       "      <td>Tuesday</td>\n",
       "      <td>Good Change</td>\n",
       "    </tr>\n",
       "    <tr>\n",
       "      <th>3</th>\n",
       "      <td>SARCO</td>\n",
       "      <td>Energy</td>\n",
       "      <td>2020-03-02</td>\n",
       "      <td>35.20</td>\n",
       "      <td>35.65</td>\n",
       "      <td>34.00</td>\n",
       "      <td>34.00</td>\n",
       "      <td>-0.55</td>\n",
       "      <td>-1.59</td>\n",
       "      <td>736157.0</td>\n",
       "      <td>25858700.60</td>\n",
       "      <td>1242.0</td>\n",
       "      <td>2020</td>\n",
       "      <td>March</td>\n",
       "      <td>Monday</td>\n",
       "      <td>Bad Change</td>\n",
       "    </tr>\n",
       "    <tr>\n",
       "      <th>4</th>\n",
       "      <td>SARCO</td>\n",
       "      <td>Energy</td>\n",
       "      <td>2020-03-01</td>\n",
       "      <td>35.35</td>\n",
       "      <td>35.60</td>\n",
       "      <td>34.25</td>\n",
       "      <td>34.55</td>\n",
       "      <td>-2.05</td>\n",
       "      <td>-5.60</td>\n",
       "      <td>738685.0</td>\n",
       "      <td>25747967.55</td>\n",
       "      <td>1625.0</td>\n",
       "      <td>2020</td>\n",
       "      <td>March</td>\n",
       "      <td>Sunday</td>\n",
       "      <td>Bad Change</td>\n",
       "    </tr>\n",
       "  </tbody>\n",
       "</table>\n",
       "</div>"
      ],
      "text/plain": [
       "  trading_name  sector        date  open_price  high_price  low_price  \\\n",
       "0        SARCO  Energy  2020-03-05       35.55       35.85      34.90   \n",
       "1        SARCO  Energy  2020-03-04       34.70       35.65      34.50   \n",
       "2        SARCO  Energy  2020-03-03       34.70       35.15      34.70   \n",
       "3        SARCO  Energy  2020-03-02       35.20       35.65      34.00   \n",
       "4        SARCO  Energy  2020-03-01       35.35       35.60      34.25   \n",
       "\n",
       "   close_price  change  perc_Change  volume_traded  value_traded  num_trades  \\\n",
       "0        34.90   -0.40        -1.13       436609.0   15399073.50       804.0   \n",
       "1        35.30    0.25         0.71       737624.0   25981391.35      1268.0   \n",
       "2        35.05    1.05         3.09       489831.0   17116413.40       854.0   \n",
       "3        34.00   -0.55        -1.59       736157.0   25858700.60      1242.0   \n",
       "4        34.55   -2.05        -5.60       738685.0   25747967.55      1625.0   \n",
       "\n",
       "   Year  month        day Change_category  \n",
       "0  2020  March   Thursday      Bad Change  \n",
       "1  2020  March  Wednesday     Good Change  \n",
       "2  2020  March    Tuesday     Good Change  \n",
       "3  2020  March     Monday      Bad Change  \n",
       "4  2020  March     Sunday      Bad Change  "
      ]
     },
     "execution_count": 4,
     "metadata": {},
     "output_type": "execute_result"
    }
   ],
   "source": [
    "# read the head od dataframe\n",
    "df.head()"
   ]
  },
  {
   "cell_type": "markdown",
   "id": "f29ff65e",
   "metadata": {},
   "source": [
    "## Data Information"
   ]
  },
  {
   "cell_type": "code",
   "execution_count": 5,
   "id": "f38f3703",
   "metadata": {},
   "outputs": [
    {
     "name": "stdout",
     "output_type": "stream",
     "text": [
      "<class 'pandas.core.frame.DataFrame'>\n",
      "RangeIndex: 579431 entries, 0 to 579430\n",
      "Data columns (total 16 columns):\n",
      " #   Column           Non-Null Count   Dtype  \n",
      "---  ------           --------------   -----  \n",
      " 0   trading_name     579431 non-null  object \n",
      " 1   sector           579431 non-null  object \n",
      " 2   date             579431 non-null  object \n",
      " 3   open_price       579431 non-null  float64\n",
      " 4   high_price       579431 non-null  float64\n",
      " 5   low_price        579431 non-null  float64\n",
      " 6   close_price      579431 non-null  float64\n",
      " 7   change           579431 non-null  float64\n",
      " 8   perc_Change      579431 non-null  float64\n",
      " 9   volume_traded    579431 non-null  float64\n",
      " 10  value_traded     579431 non-null  float64\n",
      " 11  num_trades       579431 non-null  float64\n",
      " 12  Year             579431 non-null  int64  \n",
      " 13  month            579431 non-null  object \n",
      " 14  day              579431 non-null  object \n",
      " 15  Change_category  579431 non-null  object \n",
      "dtypes: float64(9), int64(1), object(6)\n",
      "memory usage: 70.7+ MB\n"
     ]
    }
   ],
   "source": [
    "# Check the Data type of column \n",
    "df.info()"
   ]
  },
  {
   "cell_type": "markdown",
   "id": "4f080f0c",
   "metadata": {},
   "source": [
    "## Select the  columns "
   ]
  },
  {
   "cell_type": "code",
   "execution_count": 6,
   "id": "3eaf8a77",
   "metadata": {},
   "outputs": [],
   "source": [
    "column_name = ['Change_category' ,'sector' ]\n",
    "new_df =df[column_name]"
   ]
  },
  {
   "cell_type": "code",
   "execution_count": 35,
   "id": "9e9d3af3",
   "metadata": {},
   "outputs": [
    {
     "data": {
      "text/html": [
       "<div>\n",
       "<style scoped>\n",
       "    .dataframe tbody tr th:only-of-type {\n",
       "        vertical-align: middle;\n",
       "    }\n",
       "\n",
       "    .dataframe tbody tr th {\n",
       "        vertical-align: top;\n",
       "    }\n",
       "\n",
       "    .dataframe thead th {\n",
       "        text-align: right;\n",
       "    }\n",
       "</style>\n",
       "<table border=\"1\" class=\"dataframe\">\n",
       "  <thead>\n",
       "    <tr style=\"text-align: right;\">\n",
       "      <th></th>\n",
       "      <th>sector</th>\n",
       "      <th>Change_category</th>\n",
       "    </tr>\n",
       "  </thead>\n",
       "  <tbody>\n",
       "    <tr>\n",
       "      <th>0</th>\n",
       "      <td>Energy</td>\n",
       "      <td>Bad Change</td>\n",
       "    </tr>\n",
       "    <tr>\n",
       "      <th>1</th>\n",
       "      <td>Energy</td>\n",
       "      <td>Good Change</td>\n",
       "    </tr>\n",
       "    <tr>\n",
       "      <th>2</th>\n",
       "      <td>Energy</td>\n",
       "      <td>Good Change</td>\n",
       "    </tr>\n",
       "    <tr>\n",
       "      <th>3</th>\n",
       "      <td>Energy</td>\n",
       "      <td>Bad Change</td>\n",
       "    </tr>\n",
       "    <tr>\n",
       "      <th>4</th>\n",
       "      <td>Energy</td>\n",
       "      <td>Bad Change</td>\n",
       "    </tr>\n",
       "  </tbody>\n",
       "</table>\n",
       "</div>"
      ],
      "text/plain": [
       "   sector Change_category\n",
       "0  Energy      Bad Change\n",
       "1  Energy     Good Change\n",
       "2  Energy     Good Change\n",
       "3  Energy      Bad Change\n",
       "4  Energy      Bad Change"
      ]
     },
     "execution_count": 35,
     "metadata": {},
     "output_type": "execute_result"
    }
   ],
   "source": [
    "# read the new dataframe\n",
    "new_df.head()"
   ]
  },
  {
   "cell_type": "markdown",
   "id": "57a353c5",
   "metadata": {},
   "source": [
    "## Convert to CSV file"
   ]
  },
  {
   "cell_type": "code",
   "execution_count": 7,
   "id": "e4168a20",
   "metadata": {},
   "outputs": [],
   "source": [
    "new_df.to_csv('data.csv')"
   ]
  },
  {
   "cell_type": "code",
   "execution_count": 11,
   "id": "9050e2e9",
   "metadata": {},
   "outputs": [],
   "source": [
    "# read new data frame\n",
    "new_data = pd.read_csv('data.csv')"
   ]
  },
  {
   "cell_type": "markdown",
   "id": "d6a0b9c3",
   "metadata": {},
   "source": [
    "## Count the sector"
   ]
  },
  {
   "cell_type": "code",
   "execution_count": 14,
   "id": "2fa7d2e0",
   "metadata": {},
   "outputs": [
    {
     "data": {
      "text/plain": [
       "Financials                144850\n",
       "Materials                 141544\n",
       "Consumer Staples           64686\n",
       "Industrials                63937\n",
       "Consumer Discretionary     54856\n",
       "Real Estate                44463\n",
       "Communication Services     21348\n",
       "Health Care                17825\n",
       "Energy                     15731\n",
       "Utilities                   9385\n",
       "IT                           806\n",
       "Name: sector, dtype: int64"
      ]
     },
     "execution_count": 14,
     "metadata": {},
     "output_type": "execute_result"
    }
   ],
   "source": [
    "new_data.sector.value_counts()\n",
    "\n"
   ]
  },
  {
   "cell_type": "markdown",
   "id": "75570eac",
   "metadata": {},
   "source": [
    "## Count the Change Category"
   ]
  },
  {
   "cell_type": "code",
   "execution_count": 17,
   "id": "bdf5ad09",
   "metadata": {},
   "outputs": [
    {
     "data": {
      "text/plain": [
       "Bad Change     263098\n",
       "Good Change    250635\n",
       "Stable          65698\n",
       "Name: Change_category, dtype: int64"
      ]
     },
     "execution_count": 17,
     "metadata": {},
     "output_type": "execute_result"
    }
   ],
   "source": [
    "new_data.Change_category.value_counts()\n",
    "\n",
    "\n"
   ]
  },
  {
   "cell_type": "markdown",
   "id": "59297aa5",
   "metadata": {},
   "source": [
    "# -----------------------------------------------------------------------------------------"
   ]
  },
  {
   "cell_type": "code",
   "execution_count": null,
   "id": "462cbe31",
   "metadata": {},
   "outputs": [],
   "source": []
  }
 ],
 "metadata": {
  "kernelspec": {
   "display_name": "Python 3 (ipykernel)",
   "language": "python",
   "name": "python3"
  },
  "language_info": {
   "codemirror_mode": {
    "name": "ipython",
    "version": 3
   },
   "file_extension": ".py",
   "mimetype": "text/x-python",
   "name": "python",
   "nbconvert_exporter": "python",
   "pygments_lexer": "ipython3",
   "version": "3.9.12"
  }
 },
 "nbformat": 4,
 "nbformat_minor": 5
}
